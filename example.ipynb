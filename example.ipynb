{
	"cells": [
		{
			"cell_type": "markdown",
			"metadata": {},
			"source": [
				"# Jupyter Tesseract Widget\n",
				"\n",
				"Helper for performing OCR on images and PDFs using `tesseract.js`` and `pdfjs`.`"
			]
		},
		{
			"cell_type": "code",
			"execution_count": 1,
			"metadata": {},
			"outputs": [
				{
					"data": {
						"application/vnd.jupyter.widget-view+json": {
							"model_id": "c4575fd1df834fa992f8adf1e1c23427",
							"version_major": 2,
							"version_minor": 1
						},
						"text/plain": [
							"tesseractPdfjsWidget()"
						]
					},
					"metadata": {},
					"output_type": "display_data"
				}
			],
			"source": [
				"from jupyter_anywidget_tesseract_pdfjs import tesseract_inline, tesseract_panel\n",
				"t_inline = tesseract_inline()"
			]
		},
		{
			"cell_type": "code",
			"execution_count": 3,
			"metadata": {},
			"outputs": [],
			"source": [
				"image_url = \"https://tesseract.projectnaptha.com/img/eng_bw.png\"\n",
				"t_inline.set_datauri(image_url)"
			]
		},
		{
			"cell_type": "code",
			"execution_count": 4,
			"metadata": {},
			"outputs": [
				{
					"data": {
						"text/plain": [
							"{'typ': 'datauri',\n",
							" 'location': 'https://tesseract.projectnaptha.com/img/eng_bw.png',\n",
							" 'p1': 'Mild Splendour of the various-vested Night!\\nMother of wildly-working visions! hail\\nI watch thy gliding, while with watery light\\nThy weak eye glimmers through a fleecy veil;\\nAnd when thou lovest thy pale orb to shroud\\nBehind the gather’d blackness lost on high;\\nAnd when thou dartest from the wind-rent cloud\\nThy placid lightning o’er the awaken’d sky.\\n',\n",
							" 'processed': 1}"
						]
					},
					"execution_count": 4,
					"metadata": {},
					"output_type": "execute_result"
				}
			],
			"source": [
				"t_inline.pagedata"
			]
		},
		{
			"cell_type": "code",
			"execution_count": 7,
			"metadata": {},
			"outputs": [],
			"source": [
				"t_inline.pagedata = {}\n",
				"\n",
				"image_url = \"https://tesseract.projectnaptha.com/img/eng_bw.png\"\n",
				"t_inline.set_url(image_url)"
			]
		},
		{
			"cell_type": "code",
			"execution_count": 8,
			"metadata": {},
			"outputs": [
				{
					"data": {
						"text/plain": [
							"{'typ': 'url',\n",
							" 'location': 'https://tesseract.projectnaptha.com/img/eng_bw.png',\n",
							" 'p1': 'Mild Splendour of the various-vested Night!\\nMother of wildly-working visions! hail\\nI watch thy gliding, while with watery light\\nThy weak eye glimmers through a fleecy veil;\\nAnd when thou lovest thy pale orb to shroud\\nBehind the gather’d blackness lost on high;\\nAnd when thou dartest from the wind-rent cloud\\nThy placid lightning o’er the awaken’d sky.\\n',\n",
							" 'processed': 1}"
						]
					},
					"execution_count": 8,
					"metadata": {},
					"output_type": "execute_result"
				}
			],
			"source": [
				"t_inline.pagedata"
			]
		},
		{
			"cell_type": "code",
			"execution_count": 10,
			"metadata": {},
			"outputs": [],
			"source": [
				"pdf_url = \"https://pdfobject.com/pdf/sample-3pp.pdf\"\n",
				"t_inline.set_url(pdf_url)"
			]
		},
		{
			"cell_type": "code",
			"execution_count": 11,
			"metadata": {},
			"outputs": [
				{
					"data": {
						"text/plain": [
							"{'typ': 'pdf',\n",
							" 'pages': 3,\n",
							" 'name': 'sample-3pp.pdf',\n",
							" 'p3': 'elementum. Morbi in ipsum sit amet pede facilisis laoreet. Donec lacus nunc, viverra nec, blandit\\nvel, egestas et, augue. Vestibulum tincidunt malesuada tellus. Ut ultrices ultrices enim. Curabitur\\nsit amet mauris.\\nMorbi in dui quis est pulvinar ullamcorper. Nulla facilisi. Integer lacinia sollicitudin massa. Cras\\nmetus. Sed aliquet risus a tortor. Integer id quam. Morbi mi. Quisque nisl felis, venenatis tristique,\\ndignissim in, ultrices sit amet, augue. Proin sodales libero eget ante. Nulla quam. Aenean laoreet.\\nVestibulum nisi lectus, commodo ac, facilisis ac, ultricies eu, pede. Ut orci risus, accumsan\\nporttitor, cursus quis, aliquet eget, justo. Sed pretium blandit orci.\\nUt eu diam at pede suscipit sodales. Aenean lectus elit, fermentum non, convallis id, sagittis at,\\nneque. Nullam mauris orci, aliquet et, iaculis et, viverra vitae, ligula. Nulla ut felis in purus\\naliquam imperdiet. Maecenas aliquet mollis lectus. Vivamus consectetuer risus et tortor. Lorem\\nipsum dolor sit amet, consectetur adipiscing elit. Integer nec odio. Praesent libero. Sed cursus ante\\ndapibus diam. Sed nisi. Nulla quis sem at nibh elementum imperdiet. Duis sagittis ipsum.\\nPraesent mauris.\\nFusce nec tellus sed augue semper porta. Mauris massa. Vestibulum lacinia arcu eget nulla. Class\\naptent taciti sociosqu ad litora torquent per conubia nostra, per inceptos himenaeos. Curabitur\\nsodales ligula in libero. Sed dignissim lacinia nunc. Curabitur tortor. Pellentesque nibh. Aenean\\nquam. In scelerisque sem at dolor. Maecenas mattis. Sed convallis tristique sem.\\nProin ut ligula vel nunc egestas porttitor. Morbi lectus risus, iaculis vel, suscipit quis, luctus non,\\nmassa. Fusce ac turpis quis ligula lacinia aliquet. Mauris ipsum. Nulla metus metus, ullamcorper\\nvel, tincidunt sed, euismod in, nibh. Quisque volutpat condimentum velit. Class aptent taciti\\nsociosqu ad litora torquent per conubia nostra, per inceptos himenaeos. Nam nec ante. Sed lacinia,\\nurna non tincidunt mattis, tortor neque adipiscing diam, a cursus ipsum ante quis turpis. Nulla\\nfacilisi. Ut fringilla. Suspendisse potenti.\\nNunc feugiat mi a tellus consequat imperdiet. Vestibulum sapien. Proin quam. Etiam ultrices.\\nSuspendisse in justo eu magna luctus suscipit. Sed lectus. Integer euismod lacus luctus magna.\\nQuisque cursus, metus vitae pharetra auctor, sem massa mattis sem, at interdum magna augue\\neget diam. Vestibulum ante ipsum primis in faucibus orci luctus et ultrices posuere cubilia Curae;\\nMorbi lacinia molestie dui. Praesent blandit dolor. Sed non quam. In vel mi sit amet augue congue\\nelementum. Morbi in ipsum sit amet pede facilisis laoreet.\\n\\n3\\n',\n",
							" 'processed': 3,\n",
							" 'p1': \"Created for testing PDFObject\\nThis PDF is three pages long. Three long pages. Or three short pages if\\nyou're optimistic. Is it the same as saying “three long minutes”, knowing\\nthat all minutes are the same duration, and one cannot possibly be longer\\nthan the other? If these pages are all the same size, can one possibly be\\nlonger than the other?\\nI digress. Here's some Latin. Lorem ipsum dolor sit amet, consectetur adipiscing elit. Integer nec\\nodio. Praesent libero. Sed cursus ante dapibus diam. Sed nisi. Nulla quis sem at nibh elementum\\nimperdiet. Duis sagittis ipsum. Praesent mauris. Fusce nec tellus sed augue semper porta. Mauris\\nmassa. Vestibulum lacinia arcu eget nulla. Class aptent taciti sociosqu ad litora torquent per\\nconubia nostra, per inceptos himenaeos. Curabitur sodales ligula in libero.\\nSed dignissim lacinia nunc. Curabitur tortor. Pellentesque nibh. Aenean quam. In scelerisque sem\\nat dolor. Maecenas mattis. Sed convallis tristique sem. Proin ut ligula vel nunc egestas porttitor.\\nMorbi lectus risus, iaculis vel, suscipit quis, luctus non, massa. Fusce ac turpis quis ligula lacinia\\naliquet. Mauris ipsum. Nulla metus metus, ullamcorper vel, tincidunt sed, euismod in, nibh.\\nQuisque volutpat condimentum velit. Class aptent taciti sociosqu ad litora torquent per conubia\\nnostra, per inceptos himenaeos. Nam nec ante. Sed lacinia, urna non tincidunt mattis, tortor neque\\nadipiscing diam, a cursus ipsum ante quis turpis. Nulla facilisi. Ut fringilla. Suspendisse potenti.\\nNunc feugiat mi a tellus consequat imperdiet. Vestibulum sapien. Proin quam. Etiam ultrices.\\nSuspendisse in justo eu magna luctus suscipit. Sed lectus. Integer euismod lacus luctus magna.\\nQuisque cursus, metus vitae pharetra auctor, sem massa mattis sem, at interdum magna augue\\neget diam. Vestibulum ante ipsum primis in faucibus orci luctus et ultrices posuere cubilia Curae;\\nMorbi lacinia molestie dui. Praesent blandit dolor. Sed non quam. In vel mi sit amet augue congue\\nelementum. Morbi in ipsum sit amet pede facilisis laoreet. Donec lacus nunc, viverra nec, blandit\\nvel, egestas et, augue. Vestibulum tincidunt malesuada tellus. Ut ultrices ultrices enim. Curabitur\\nsit amet mauris.\\nMorbi in dui quis est pulvinar ullamcorper. Nulla facilisi. Integer lacinia sollicitudin massa. Cras\\nmetus. Sed aliquet risus a tortor. Integer id quam. Morbi mi. Quisque nisl felis, venenatis tristique,\\ndignissim in, ultrices sit amet, augue. Proin sodales libero eget ante. Nulla quam. Aenean laoreet.\\nVestibulum nisi lectus, commodo ac, facilisis ac, ultricies eu, pede. Ut orci risus, accumsan\\nporttitor, cursus quis, aliquet eget, justo. Sed pretium blandit orci.\\nUt eu diam at pede suscipit sodales. Aenean lectus elit, fermentum non, convallis id, sagittis at,\\nneque. Nullam mauris orci, aliquet et, iaculis et, viverra vitae, ligula. Nulla ut felis in purus\\naliquam imperdiet. Maecenas aliquet mollis lectus. Vivamus consectetuer risus et tortor. Lorem\\n\\n1\\n\",\n",
							" 'p2': 'ipsum dolor sit amet, consectetur adipiscing elit. Integer nec odio. Praesent libero. Sed cursus ante\\ndapibus diam. Sed nisi. Nulla quis sem at nibh elementum imperdiet. Duis sagittis ipsum.\\nPraesent mauris.\\nFusce nec tellus sed augue semper porta. Mauris massa. Vestibulum lacinia arcu eget nulla. Class\\naptent taciti sociosqu ad litora torquent per conubia nostra, per inceptos himenaeos. Curabitur\\nsodales ligula in libero. Sed dignissim lacinia nunc. Curabitur tortor. Pellentesque nibh. Aenean\\nquam. In scelerisque sem at dolor. Maecenas mattis. Sed convallis tristique sem.\\nProin ut ligula vel nunc egestas porttitor. Morbi lectus risus, iaculis vel, suscipit quis, luctus non,\\nmassa. Fusce ac turpis quis ligula lacinia aliquet. Mauris ipsum. Nulla metus metus, ullamcorper\\nvel, tincidunt sed, euismod in, nibh. Quisque volutpat condimentum velit. Class aptent taciti\\nsociosqu ad litora torquent per conubia nostra, per inceptos himenaeos. Nam nec ante. Sed lacinia,\\nurna non tincidunt mattis, tortor neque adipiscing diam, a cursus ipsum ante quis turpis. Nulla\\nfacilisi. Ut fringilla. Suspendisse potenti.\\nNunc feugiat mi a tellus consequat imperdiet. Vestibulum sapien. Proin quam. Etiam ultrices.\\nSuspendisse in justo eu magna luctus suscipit. Sed lectus. Integer euismod lacus luctus magna.\\nQuisque cursus, metus vitae pharetra auctor, sem massa mattis sem, at interdum magna augue\\neget diam. Vestibulum ante ipsum primis in faucibus orci luctus et ultrices posuere cubilia Curae;\\nMorbi lacinia molestie dui. Praesent blandit dolor. Sed non quam. In vel mi sit amet augue congue\\nelementum. Morbi in ipsum sit amet pede facilisis laoreet.\\nDonec lacus nunc, viverra nec, blandit vel, egestas et, augue. Vestibulum tincidunt malesuada\\ntellus. Ut ultrices ultrices enim. Curabitur sit amet mauris. Morbi in dui quis est pulvinar\\nullamcorper. Nulla facilisi. Integer lacinia sollicitudin massa. Cras metus. Sed aliquet risus a\\ntortor. Integer id quam. Morbi mi.\\nLorem ipsum dolor sit amet, consectetur adipiscing elit. Integer nec odio. Praesent libero. Sed\\ncursus ante dapibus diam. Sed nisi. Nulla quis sem at nibh elementum imperdiet. Duis sagittis\\nipsum. Praesent mauris. Fusce nec tellus sed augue semper porta. Mauris massa. Vestibulum\\nlacinia arcu eget nulla. Class aptent taciti sociosqu ad litora torquent per conubia nostra, per\\ninceptos himenaeos. Curabitur sodales ligula in libero.\\nSed dignissim lacinia nunc. Curabitur tortor. Pellentesque nibh. Aenean quam. In scelerisque sem\\nat dolor. Maecenas mattis. Sed convallis tristique sem. Proin ut ligula vel nunc egestas porttitor.\\nMorbi lectus risus, iaculis vel, suscipit quis, luctus non, massa. Fusce ac turpis quis ligula lacinia\\naliquet. Mauris ipsum. Nulla metus metus, ullamcorper vel, tincidunt sed, euismod in, nibh.\\nQuisque volutpat condimentum velit. Class aptent taciti sociosqu ad litora torquent per conubia\\nnostra, per inceptos himenaeos. Nam nec ante. Sed lacinia, urna non tincidunt mattis, tortor neque\\nadipiscing diam, a cursus ipsum ante quis turpis. Nulla facilisi. Ut fringilla. Suspendisse potenti.\\nNunc feugiat mi a tellus consequat imperdiet. Vestibulum sapien. Proin quam. Etiam ultrices.\\nSuspendisse in justo eu magna luctus suscipit. Sed lectus. Integer euismod lacus luctus magna.\\nQuisque cursus, metus vitae pharetra auctor, sem massa mattis sem, at interdum magna augue\\neget diam. Vestibulum ante ipsum primis in faucibus orci luctus et ultrices posuere cubilia Curae;\\nMorbi lacinia molestie dui. Praesent blandit dolor. Sed non quam. In vel mi sit amet augue congue\\n2\\n'}"
						]
					},
					"execution_count": 11,
					"metadata": {},
					"output_type": "execute_result"
				}
			],
			"source": [
				"t_inline.pagedata"
			]
		}
	],
	"metadata": {
		"kernelspec": {
			"display_name": "Python 3",
			"language": "python",
			"name": "python3"
		},
		"language_info": {
			"codemirror_mode": {
				"name": "ipython",
				"version": 3
			},
			"file_extension": ".py",
			"mimetype": "text/x-python",
			"name": "python",
			"nbconvert_exporter": "python",
			"pygments_lexer": "ipython3",
			"version": "3.11.0"
		}
	},
	"nbformat": 4,
	"nbformat_minor": 2
}
