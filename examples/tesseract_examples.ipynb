{
 "cells": [
  {
   "cell_type": "markdown",
   "id": "e82764ce-5acf-4b81-8b96-dc4424330b35",
   "metadata": {},
   "source": [
    "# `tesseract.js` Examples\n",
    "\n",
    "Examples of using [`jupyter_anywidget_tesseract_pdfjs`](https://github.com/innovationOUtside/jupyter_anywidget_tesseract_pdfjs).\n",
    "\n",
    "Create a widget as:\n",
    "\n",
    "- `t = tesseract_panel()`\n",
    "- `t = tesseract_panel(\"example panel title)`\n",
    "- `t = tesseract_panel(None, \"split-bottom\")`"
   ]
  },
  {
   "cell_type": "code",
   "execution_count": 1,
   "id": "78062c3c-2a32-42b8-9c90-68ef5353d025",
   "metadata": {},
   "outputs": [],
   "source": [
    "# pip install jupyter_anywidget_tesseract_pdfjs\n",
    "## Repo: https://github.com/innovationOUtside/jupyter_anywidget_tesseract_pdfjs\n",
    "\n",
    "# Import package\n",
    "from jupyter_anywidget_tesseract_pdfjs import tesseract_panel\n",
    "\n",
    "# Create a widget panel with a handle\n",
    "t = tesseract_panel()"
   ]
  },
  {
   "cell_type": "markdown",
   "id": "6a28542f-6632-44d4-a142-38112e66f004",
   "metadata": {},
   "source": [
    "Upload an image or PDF file by:\n",
    "\n",
    "- dragging and dropping it onto landing target area;\n",
    "- click on landing target area and select file from dialogue;\n",
    "\n",
    "Image handling via the widget API:\n",
    "\n",
    "- set a new URL path to an image on the widget: `t.url='https://tesseract.projectnaptha.com/img/eng_bw.png'`\n",
    "- set a new data URI on the widget object: `t.datauri = DATAURI`;\n",
    "    - the helper function `from jupyter_anywidget_tesseract_pdfjs.utils import image_to_data_uri\n",
    "` can generate a data URI from:\n",
    "      - an image file at a URL;\n",
    "      - an image file on a local path;\n",
    "      - a `matplotlib` axes object (with type `matplotlib.axes._axes.Axes`)\n",
    "      - an IPython `Image` display object (`IPython.core.display.Image` type; for example returned from a previous cell: `image_to_data_uri(_)`)\n",
    "- pass a thing that can be converted to a data URL (a URL or local path to an image, a `matplotlib` axes or IPython `Image` display object) to `t.set_datauri(THING)`\n",
    "\n",
    "## Accessing extracted text\n",
    "\n",
    "When the text has been extracted it will be available as:\n",
    "\n",
    "`t.pagedata`\n",
    "\n",
    "The text extracted from the last image to be processed is also available as `t.extracted`.\n",
    "\n",
    "## Summary table of fule usage with `jupyter_anywidget_tesseract_pdfjs`\n",
    "\n",
    "| Filetype  | Local file  | Web URL |\n",
    "|---|---|---|\n",
    "| Image  | File drag / select; `widget.set_datauri(?)` | `widget.url=?`, `widget.set_url(?)`, `widget.set_datauri(?)` |\n",
    "|  PDF  |  File drag / select  | `widget.pdf=?`, `widget.set_url(?)`  |\n",
    "| Image Data URI | `widget.datauri=?` | N/A |\n",
    "\n",
    "*The landing target is still misbehaving a little... Reload the JupyerLab window if it stops playing nicely.*"
   ]
  },
  {
   "cell_type": "code",
   "execution_count": 2,
   "id": "957b0735-325c-4e0d-ae34-b20c05b226e7",
   "metadata": {},
   "outputs": [],
   "source": [
    "# Image at URL\n",
    "image_url = \"https://tesseract.projectnaptha.com/img/eng_bw.png\"\n",
    "\n",
    "t.url = image_url"
   ]
  },
  {
   "cell_type": "markdown",
   "id": "445e0c50-1a35-4c35-bf42-d0c9b6dbdcb2",
   "metadata": {},
   "source": [
    "We can access extracted text via: `t.pagedata`\n",
    "\n",
    "The results object takes the form:\n",
    "\n",
    "```python\n",
    "{'typ': 'pdf',\n",
    " 'pages': 3,\n",
    " 'name': 'sample-3pp.pdf',\n",
    " 'p3': 'elementum. Morbi in  ...',\n",
    " 'processed': 2,\n",
    " 'p1': \"Created for testing ...'\n",
    "}\n",
    "```\n",
    "\n",
    "The keys of the form `pN` are page numbers; the `processed` item keeps a count of pages that have been processed; the `pages` item is the total number of pages submutted for processing.\n"
   ]
  },
  {
   "cell_type": "code",
   "execution_count": 3,
   "id": "81a0faf9-922d-4dca-94bd-201489cdda6d",
   "metadata": {},
   "outputs": [
    {
     "data": {
      "text/plain": [
       "{'typ': 'url',\n",
       " 'location': 'https://tesseract.projectnaptha.com/img/eng_bw.png',\n",
       " 'p1': 'Mild Splendour of the various-vested Night!\\nMother of wildly-working visions! hail\\nI watch thy gliding, while with watery light\\nThy weak eye glimmers through a fleecy veil;\\nAnd when thou lovest thy pale orb to shroud\\nBehind the gather’d blackness lost on high;\\nAnd when thou dartest from the wind-rent cloud\\nThy placid lightning o’er the awaken’d sky.\\n',\n",
       " 'processed': 1}"
      ]
     },
     "execution_count": 3,
     "metadata": {},
     "output_type": "execute_result"
    }
   ],
   "source": [
    "t.pagedata"
   ]
  },
  {
   "cell_type": "markdown",
   "id": "c76d2b4d-cbaa-4165-812c-d1b3d9e1ad83",
   "metadata": {},
   "source": [
    "Alternatively, we can pass the URL to `.set_url()`.\n",
    "\n",
    "*An optional `force=True` (default: `False`) forces an empty `''` value before setting the URL to ensure the change event that initiates the OCR process is triggered on the `url` value.*"
   ]
  },
  {
   "cell_type": "code",
   "execution_count": 4,
   "id": "a22df67c-7fdf-49c8-85ce-6b23327b5c66",
   "metadata": {},
   "outputs": [],
   "source": [
    "# Set the URL and force the OCR process\n",
    "t.set_url(image_url, True)"
   ]
  },
  {
   "cell_type": "markdown",
   "id": "4668d526-12f5-4626-ac72-d9236f151600",
   "metadata": {},
   "source": [
    "Extract text from a local image by casting it to a data URI:"
   ]
  },
  {
   "cell_type": "code",
   "execution_count": 5,
   "id": "2bb3e083-55a0-4032-8268-2546206279c0",
   "metadata": {},
   "outputs": [],
   "source": [
    "# Save a URL as a local file\n",
    "import urllib.request\n",
    "local_image = 'local_file.png'\n",
    "urllib.request.urlretrieve(image_url, local_image)\n",
    "\n",
    "t.set_datauri('') # Force a change in the URI\n",
    "t.set_datauri(local_image)"
   ]
  },
  {
   "cell_type": "code",
   "execution_count": 6,
   "id": "e379d2a9-f42d-4563-b939-f33118fa2a96",
   "metadata": {},
   "outputs": [
    {
     "data": {
      "text/plain": [
       "{'typ': 'datauri',\n",
       " 'location': 'local_file.png',\n",
       " 'p1': 'Mild Splendour of the various-vested Night!\\nMother of wildly-working visions! hail\\nI watch thy gliding, while with watery light\\nThy weak eye glimmers through a fleecy veil;\\nAnd when thou lovest thy pale orb to shroud\\nBehind the gather’d blackness lost on high;\\nAnd when thou dartest from the wind-rent cloud\\nThy placid lightning o’er the awaken’d sky.\\n',\n",
       " 'processed': 1}"
      ]
     },
     "execution_count": 6,
     "metadata": {},
     "output_type": "execute_result"
    }
   ],
   "source": [
    "t.pagedata"
   ]
  },
  {
   "cell_type": "code",
   "execution_count": 7,
   "id": "bd9f8ee5-afea-4523-a602-03629d2a1ab4",
   "metadata": {},
   "outputs": [],
   "source": [
    "# We can also force the update\n",
    "t.set_datauri(local_image, force=True)\n",
    "#t.set_datauri(local_image, True)"
   ]
  },
  {
   "cell_type": "code",
   "execution_count": 8,
   "id": "24e469eb-b7ab-4c5c-be50-ae45664755df",
   "metadata": {},
   "outputs": [
    {
     "data": {
      "text/plain": [
       "{'typ': 'datauri',\n",
       " 'location': 'local_file.png',\n",
       " 'p1': 'Mild Splendour of the various-vested Night!\\nMother of wildly-working visions! hail\\nI watch thy gliding, while with watery light\\nThy weak eye glimmers through a fleecy veil;\\nAnd when thou lovest thy pale orb to shroud\\nBehind the gather’d blackness lost on high;\\nAnd when thou dartest from the wind-rent cloud\\nThy placid lightning o’er the awaken’d sky.\\n',\n",
       " 'processed': 1}"
      ]
     },
     "execution_count": 8,
     "metadata": {},
     "output_type": "execute_result"
    }
   ],
   "source": [
    "t.pagedata"
   ]
  },
  {
   "cell_type": "markdown",
   "id": "0cc1f60c-8764-451f-8fc1-c1f7a0e5bd39",
   "metadata": {},
   "source": [
    "Extract text from an online PDF:"
   ]
  },
  {
   "cell_type": "code",
   "execution_count": 9,
   "id": "e7ecee73-34a7-4ae0-b399-0f39af1f7ebe",
   "metadata": {},
   "outputs": [],
   "source": [
    "pdf_url = \"https://pdfobject.com/pdf/sample-3pp.pdf\"\n",
    "t.set_url(pdf_url)\n",
    "## Alternatively:\n",
    "# t.pdf = pdf_url"
   ]
  },
  {
   "cell_type": "code",
   "execution_count": 13,
   "id": "8ce39614-6be6-4806-9077-729cd10d7bfe",
   "metadata": {},
   "outputs": [
    {
     "data": {
      "text/plain": [
       "{'typ': 'pdf',\n",
       " 'pages': 3,\n",
       " 'name': 'sample-3pp.pdf',\n",
       " 'p3': 'elementum. Morbi in ipsum sit amet pede facilisis laoreet. Donec lacus nunc, viverra nec, blandit\\nvel, egestas et, augue. Vestibulum tincidunt malesuada tellus. Ut ultrices ultrices enim. Curabitur\\nsit amet mauris.\\nMorbi in dui quis est pulvinar ullamcorper. Nulla facilisi. Integer lacinia sollicitudin massa. Cras\\nmetus. Sed aliquet risus a tortor. Integer id quam. Morbi mi. Quisque nisl felis, venenatis tristique,\\ndignissim in, ultrices sit amet, augue. Proin sodales libero eget ante. Nulla quam. Aenean laoreet.\\nVestibulum nisi lectus, commodo ac, facilisis ac, ultricies eu, pede. Ut orci risus, accumsan\\nporttitor, cursus quis, aliquet eget, justo. Sed pretium blandit orci.\\nUt eu diam at pede suscipit sodales. Aenean lectus elit, fermentum non, convallis id, sagittis at,\\nneque. Nullam mauris orci, aliquet et, iaculis et, viverra vitae, ligula. Nulla ut felis in purus\\naliquam imperdiet. Maecenas aliquet mollis lectus. Vivamus consectetuer risus et tortor. Lorem\\nipsum dolor sit amet, consectetur adipiscing elit. Integer nec odio. Praesent libero. Sed cursus ante\\ndapibus diam. Sed nisi. Nulla quis sem at nibh elementum imperdiet. Duis sagittis ipsum.\\nPraesent mauris.\\nFusce nec tellus sed augue semper porta. Mauris massa. Vestibulum lacinia arcu eget nulla. Class\\naptent taciti sociosqu ad litora torquent per conubia nostra, per inceptos himenaeos. Curabitur\\nsodales ligula in libero. Sed dignissim lacinia nunc. Curabitur tortor. Pellentesque nibh. Aenean\\nquam. In scelerisque sem at dolor. Maecenas mattis. Sed convallis tristique sem.\\nProin ut ligula vel nunc egestas porttitor. Morbi lectus risus, iaculis vel, suscipit quis, luctus non,\\nmassa. Fusce ac turpis quis ligula lacinia aliquet. Mauris ipsum. Nulla metus metus, ullamcorper\\nvel, tincidunt sed, euismod in, nibh. Quisque volutpat condimentum velit. Class aptent taciti\\nsociosqu ad litora torquent per conubia nostra, per inceptos himenaeos. Nam nec ante. Sed lacinia,\\nurna non tincidunt mattis, tortor neque adipiscing diam, a cursus ipsum ante quis turpis. Nulla\\nfacilisi. Ut fringilla. Suspendisse potenti.\\nNunc feugiat mi a tellus consequat imperdiet. Vestibulum sapien. Proin quam. Etiam ultrices.\\nSuspendisse in justo eu magna luctus suscipit. Sed lectus. Integer euismod lacus luctus magna.\\nQuisque cursus, metus vitae pharetra auctor, sem massa mattis sem, at interdum magna augue\\neget diam. Vestibulum ante ipsum primis in faucibus orci luctus et ultrices posuere cubilia Curae;\\nMorbi lacinia molestie dui. Praesent blandit dolor. Sed non quam. In vel mi sit amet augue congue\\nelementum. Morbi in ipsum sit amet pede facilisis laoreet.\\n\\n3\\n',\n",
       " 'processed': 3,\n",
       " 'p1': \"Created for testing PDFObject\\nThis PDF is three pages long. Three long pages. Or three short pages if\\nyou're optimistic. Is it the same as saying “three long minutes”, knowing\\nthat all minutes are the same duration, and one cannot possibly be longer\\nthan the other? If these pages are all the same size, can one possibly be\\nlonger than the other?\\nI digress. Here's some Latin. Lorem ipsum dolor sit amet, consectetur adipiscing elit. Integer nec\\nodio. Praesent libero. Sed cursus ante dapibus diam. Sed nisi. Nulla quis sem at nibh elementum\\nimperdiet. Duis sagittis ipsum. Praesent mauris. Fusce nec tellus sed augue semper porta. Mauris\\nmassa. Vestibulum lacinia arcu eget nulla. Class aptent taciti sociosqu ad litora torquent per\\nconubia nostra, per inceptos himenaeos. Curabitur sodales ligula in libero.\\nSed dignissim lacinia nunc. Curabitur tortor. Pellentesque nibh. Aenean quam. In scelerisque sem\\nat dolor. Maecenas mattis. Sed convallis tristique sem. Proin ut ligula vel nunc egestas porttitor.\\nMorbi lectus risus, iaculis vel, suscipit quis, luctus non, massa. Fusce ac turpis quis ligula lacinia\\naliquet. Mauris ipsum. Nulla metus metus, ullamcorper vel, tincidunt sed, euismod in, nibh.\\nQuisque volutpat condimentum velit. Class aptent taciti sociosqu ad litora torquent per conubia\\nnostra, per inceptos himenaeos. Nam nec ante. Sed lacinia, urna non tincidunt mattis, tortor neque\\nadipiscing diam, a cursus ipsum ante quis turpis. Nulla facilisi. Ut fringilla. Suspendisse potenti.\\nNunc feugiat mi a tellus consequat imperdiet. Vestibulum sapien. Proin quam. Etiam ultrices.\\nSuspendisse in justo eu magna luctus suscipit. Sed lectus. Integer euismod lacus luctus magna.\\nQuisque cursus, metus vitae pharetra auctor, sem massa mattis sem, at interdum magna augue\\neget diam. Vestibulum ante ipsum primis in faucibus orci luctus et ultrices posuere cubilia Curae;\\nMorbi lacinia molestie dui. Praesent blandit dolor. Sed non quam. In vel mi sit amet augue congue\\nelementum. Morbi in ipsum sit amet pede facilisis laoreet. Donec lacus nunc, viverra nec, blandit\\nvel, egestas et, augue. Vestibulum tincidunt malesuada tellus. Ut ultrices ultrices enim. Curabitur\\nsit amet mauris.\\nMorbi in dui quis est pulvinar ullamcorper. Nulla facilisi. Integer lacinia sollicitudin massa. Cras\\nmetus. Sed aliquet risus a tortor. Integer id quam. Morbi mi. Quisque nisl felis, venenatis tristique,\\ndignissim in, ultrices sit amet, augue. Proin sodales libero eget ante. Nulla quam. Aenean laoreet.\\nVestibulum nisi lectus, commodo ac, facilisis ac, ultricies eu, pede. Ut orci risus, accumsan\\nporttitor, cursus quis, aliquet eget, justo. Sed pretium blandit orci.\\nUt eu diam at pede suscipit sodales. Aenean lectus elit, fermentum non, convallis id, sagittis at,\\nneque. Nullam mauris orci, aliquet et, iaculis et, viverra vitae, ligula. Nulla ut felis in purus\\naliquam imperdiet. Maecenas aliquet mollis lectus. Vivamus consectetuer risus et tortor. Lorem\\n\\n1\\n\",\n",
       " 'p2': 'ipsum dolor sit amet, consectetur adipiscing elit. Integer nec odio. Praesent libero. Sed cursus ante\\ndapibus diam. Sed nisi. Nulla quis sem at nibh elementum imperdiet. Duis sagittis ipsum.\\nPraesent mauris.\\nFusce nec tellus sed augue semper porta. Mauris massa. Vestibulum lacinia arcu eget nulla. Class\\naptent taciti sociosqu ad litora torquent per conubia nostra, per inceptos himenaeos. Curabitur\\nsodales ligula in libero. Sed dignissim lacinia nunc. Curabitur tortor. Pellentesque nibh. Aenean\\nquam. In scelerisque sem at dolor. Maecenas mattis. Sed convallis tristique sem.\\nProin ut ligula vel nunc egestas porttitor. Morbi lectus risus, iaculis vel, suscipit quis, luctus non,\\nmassa. Fusce ac turpis quis ligula lacinia aliquet. Mauris ipsum. Nulla metus metus, ullamcorper\\nvel, tincidunt sed, euismod in, nibh. Quisque volutpat condimentum velit. Class aptent taciti\\nsociosqu ad litora torquent per conubia nostra, per inceptos himenaeos. Nam nec ante. Sed lacinia,\\nurna non tincidunt mattis, tortor neque adipiscing diam, a cursus ipsum ante quis turpis. Nulla\\nfacilisi. Ut fringilla. Suspendisse potenti.\\nNunc feugiat mi a tellus consequat imperdiet. Vestibulum sapien. Proin quam. Etiam ultrices.\\nSuspendisse in justo eu magna luctus suscipit. Sed lectus. Integer euismod lacus luctus magna.\\nQuisque cursus, metus vitae pharetra auctor, sem massa mattis sem, at interdum magna augue\\neget diam. Vestibulum ante ipsum primis in faucibus orci luctus et ultrices posuere cubilia Curae;\\nMorbi lacinia molestie dui. Praesent blandit dolor. Sed non quam. In vel mi sit amet augue congue\\nelementum. Morbi in ipsum sit amet pede facilisis laoreet.\\nDonec lacus nunc, viverra nec, blandit vel, egestas et, augue. Vestibulum tincidunt malesuada\\ntellus. Ut ultrices ultrices enim. Curabitur sit amet mauris. Morbi in dui quis est pulvinar\\nullamcorper. Nulla facilisi. Integer lacinia sollicitudin massa. Cras metus. Sed aliquet risus a\\ntortor. Integer id quam. Morbi mi.\\nLorem ipsum dolor sit amet, consectetur adipiscing elit. Integer nec odio. Praesent libero. Sed\\ncursus ante dapibus diam. Sed nisi. Nulla quis sem at nibh elementum imperdiet. Duis sagittis\\nipsum. Praesent mauris. Fusce nec tellus sed augue semper porta. Mauris massa. Vestibulum\\nlacinia arcu eget nulla. Class aptent taciti sociosqu ad litora torquent per conubia nostra, per\\ninceptos himenaeos. Curabitur sodales ligula in libero.\\nSed dignissim lacinia nunc. Curabitur tortor. Pellentesque nibh. Aenean quam. In scelerisque sem\\nat dolor. Maecenas mattis. Sed convallis tristique sem. Proin ut ligula vel nunc egestas porttitor.\\nMorbi lectus risus, iaculis vel, suscipit quis, luctus non, massa. Fusce ac turpis quis ligula lacinia\\naliquet. Mauris ipsum. Nulla metus metus, ullamcorper vel, tincidunt sed, euismod in, nibh.\\nQuisque volutpat condimentum velit. Class aptent taciti sociosqu ad litora torquent per conubia\\nnostra, per inceptos himenaeos. Nam nec ante. Sed lacinia, urna non tincidunt mattis, tortor neque\\nadipiscing diam, a cursus ipsum ante quis turpis. Nulla facilisi. Ut fringilla. Suspendisse potenti.\\nNunc feugiat mi a tellus consequat imperdiet. Vestibulum sapien. Proin quam. Etiam ultrices.\\nSuspendisse in justo eu magna luctus suscipit. Sed lectus. Integer euismod lacus luctus magna.\\nQuisque cursus, metus vitae pharetra auctor, sem massa mattis sem, at interdum magna augue\\neget diam. Vestibulum ante ipsum primis in faucibus orci luctus et ultrices posuere cubilia Curae;\\nMorbi lacinia molestie dui. Praesent blandit dolor. Sed non quam. In vel mi sit amet augue congue\\n2\\n'}"
      ]
     },
     "execution_count": 13,
     "metadata": {},
     "output_type": "execute_result"
    }
   ],
   "source": [
    "t.pagedata"
   ]
  },
  {
   "cell_type": "markdown",
   "id": "5dd2d761-8378-4009-9328-14f36399f148",
   "metadata": {},
   "source": [
    "## View History\n",
    "\n",
    "We can view a history of actions:"
   ]
  },
  {
   "cell_type": "code",
   "execution_count": 15,
   "id": "c74a10a4-9d0e-4e0e-addc-6177b3d237c7",
   "metadata": {},
   "outputs": [
    {
     "data": {
      "text/plain": [
       "['datauri::https://tesseract.projectnaptha.com/img/eng_bw.png',\n",
       " 'datauri::',\n",
       " 'datauri::local_file.png',\n",
       " 'datauri::local_file.png',\n",
       " 'datauri::local_file.png',\n",
       " 'datauri::https://tesseract.projectnaptha.com/img/eng_bw.png',\n",
       " 'datauri::https://tesseract.projectnaptha.com/img/eng_bw.png']"
      ]
     },
     "execution_count": 15,
     "metadata": {},
     "output_type": "execute_result"
    }
   ],
   "source": [
    "t.history"
   ]
  },
  {
   "cell_type": "code",
   "execution_count": null,
   "id": "8cd690ec-7064-4982-97ad-e38a92de8e3a",
   "metadata": {},
   "outputs": [],
   "source": []
  }
 ],
 "metadata": {
  "kernelspec": {
   "display_name": "Python 3 (ipykernel)",
   "language": "python",
   "name": "python3"
  },
  "language_info": {
   "codemirror_mode": {
    "name": "ipython",
    "version": 3
   },
   "file_extension": ".py",
   "mimetype": "text/x-python",
   "name": "python",
   "nbconvert_exporter": "python",
   "pygments_lexer": "ipython3",
   "version": "3.11.0"
  }
 },
 "nbformat": 4,
 "nbformat_minor": 5
}
